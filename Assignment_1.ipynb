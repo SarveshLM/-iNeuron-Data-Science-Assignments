{
  "nbformat": 4,
  "nbformat_minor": 0,
  "metadata": {
    "colab": {
      "provenance": []
    },
    "kernelspec": {
      "name": "python3",
      "display_name": "Python 3"
    },
    "language_info": {
      "name": "python"
    }
  },
  "cells": [
    {
      "cell_type": "markdown",
      "source": [
        "1. In the below elements which of them are values or an expression? eg:- values can be\n",
        "integer or string and expressions will be mathematical operators.\n",
        "*\n",
        "&#39;hello&#39;\n",
        "-87.8\n",
        "-\n",
        "/\n",
        "+\n",
        "6"
      ],
      "metadata": {
        "id": "abzNIZxR6SX_"
      }
    },
    {
      "cell_type": "markdown",
      "source": [
        "**Operators** : ( *,-,/,+)    , ***Expressions***: ( 'hello', 87.8, 6 )"
      ],
      "metadata": {
        "id": "o0Zj2UX56Ugl"
      }
    },
    {
      "cell_type": "markdown",
      "source": [
        "What is the difference between string and variable?"
      ],
      "metadata": {
        "id": "q-wzoxv16hYV"
      }
    },
    {
      "cell_type": "markdown",
      "source": [
        "Variables are symbols that you can use to store data in a program. \n",
        "Strings are data, so we can use them to fill up a variable. \n",
        "Variables can vary , but string cannot vary ."
      ],
      "metadata": {
        "id": "7xd3x78r7SFd"
      }
    },
    {
      "cell_type": "markdown",
      "source": [
        "3. Describe three different data types."
      ],
      "metadata": {
        "id": "EqOyDHDw7gJ0"
      }
    },
    {
      "cell_type": "markdown",
      "source": [
        "int data type: We can use int data type to represent whole numbers (integral values) Example: int num=25\n",
        "float data type: We can use float data type to represent floating point values (decimal values) Example: fl _num=1.5e4\n",
        "complex data type: Complex number is represented by complex class. It is specified as [a(real part) + b(imaginary part)j] . (Example: com_num=1+5.6j)"
      ],
      "metadata": {
        "id": "4lCyo6oO7jg1"
      }
    },
    {
      "cell_type": "markdown",
      "source": [
        "What is an expression made up of? What do all expressions do?\n",
        "\n",
        "Ans: An expression is a combination of values, variables, operators, and calls to functions. Expressions need to be evaluated. If we ask Python to print an expression, the interpreter evaluates the expression and displays the result. An expression is evaluated as per the precedence of its operators. So that if there is more than one operator in an expression, their precedence decides which operation will be performed first."
      ],
      "metadata": {
        "id": "UwPTo2A376pt"
      }
    },
    {
      "cell_type": "markdown",
      "source": [
        "5.This assignment statements, like spam = 10. What is the difference between an expression and a statement?\n",
        "Ans: An expression is a combination of values, variables, and operators.When we type an expression at the prompt, the interpreter evaluates it, which means that it finds the value of the expression.An expression is evaluated as per the precedence of its operators. So that if there is more than one operator in an expression, their precedence decides which operation will be performed first.\n",
        "\n",
        "eg: 5*4+50-50 is an example of a expression\n",
        "\n",
        "A statement is a unit of code that has an effect, like creating a variable or displaying a value.When we type a statement, the interpreter executes it, which means that it does whatever the statement says. In general, statements don’t have values. A statement is an instruction that a Python interpreter can execute. There are mainly four types of statements in Python, Print statements, Assignment statements, Conditional statements and Looping statements.\n",
        "\n",
        "eg: courseName = 'Yay!! I am going to be a data scientist', spam = 10"
      ],
      "metadata": {
        "id": "GSYHtXJU8HrF"
      }
    },
    {
      "cell_type": "markdown",
      "source": [
        "6. After running the following code, what does the variable bacon contain?\n",
        "bacon = 22\n",
        "bacon + 1\n",
        "\n"
      ],
      "metadata": {
        "id": "yz6RfS-J8Iud"
      }
    },
    {
      "cell_type": "markdown",
      "source": [
        "The variable bacon is set to 22 .The expression bacon + 1 does not reassign the value in bacon (that would the case if the expression is like bacon = bacon + 1 instead of bacon + 1)\n",
        "# Example Case#1\n",
        "bacon=22\n",
        "bacon + 1\n",
        "print(bacon)\n",
        "\n",
        "#Example Case#2\n",
        "bacon=22\n",
        "bacon=bacon+1 \n",
        "print(bacon)\n"
      ],
      "metadata": {
        "id": "FMIPLjpH-6B3"
      }
    },
    {
      "cell_type": "markdown",
      "source": [
        "7. What should the values of the following two terms be?\n",
        "&#39;spam&#39; + &#39;spamspam&#39;\n",
        "&#39;spam&#39; * 3\n",
        "\n"
      ],
      "metadata": {
        "id": "bPD2skpu-qO_"
      }
    },
    {
      "cell_type": "markdown",
      "source": [
        " Both expressions evaluate to the string 'spamspamspam' Where as the first expression follows String Concatentation and the second expression follows String Multiplication"
      ],
      "metadata": {
        "id": "RnGHoIxI_OZe"
      }
    },
    {
      "cell_type": "code",
      "source": [
        "print('spam'+'spamspam') # string concatenation\n",
        "print('spam'*3) # string multiplication"
      ],
      "metadata": {
        "colab": {
          "base_uri": "https://localhost:8080/"
        },
        "id": "T6d4Hv02_fUd",
        "outputId": "990e621f-42cf-4e75-c7e7-218adcf63dc9"
      },
      "execution_count": 1,
      "outputs": [
        {
          "output_type": "stream",
          "name": "stdout",
          "text": [
            "spamspamspam\n",
            "spamspamspam\n"
          ]
        }
      ]
    },
    {
      "cell_type": "markdown",
      "source": [
        "8. Why is eggs a valid variable name while 100 is invalid?\n",
        "\n"
      ],
      "metadata": {
        "id": "ydj6s_n2-sU-"
      }
    },
    {
      "cell_type": "markdown",
      "source": [
        "As per python,Variable names cannot begin with a number. The python rules for naming a variable are :-\n",
        "\n",
        "Variable name must start with a letter or the underscore character.\n",
        "Variable name cannot start with a number.\n",
        "Variable name can only contain alpha-numeric characters and underscores (A-z, 0-9, & _ ).\n",
        "Variable names are case-sensitive (name, SARVESH and sarvesh are three different variables).\n",
        "The reserved words(keywords) cannot be used naming the variable."
      ],
      "metadata": {
        "id": "ezHdljHe_R8P"
      }
    },
    {
      "cell_type": "code",
      "source": [
        "egg='Sarvesh' # Valid variable Initilization\n",
        "100='hello' # Invalid Variable Initilization\n",
        "print(egg) #prints the value of egg ie Ineuron\n",
        "print(100) # Raises a Syntax Error as 100 is not a valid variable name"
      ],
      "metadata": {
        "colab": {
          "base_uri": "https://localhost:8080/",
          "height": 130
        },
        "id": "YkwIUZwE_12n",
        "outputId": "99ea5820-871f-4dd4-c9f9-4639c5c3f612"
      },
      "execution_count": 2,
      "outputs": [
        {
          "output_type": "error",
          "ename": "SyntaxError",
          "evalue": "ignored",
          "traceback": [
            "\u001b[0;36m  File \u001b[0;32m\"<ipython-input-2-3504c7470b07>\"\u001b[0;36m, line \u001b[0;32m2\u001b[0m\n\u001b[0;31m    100='hello' # Invalid Variable Initilization\u001b[0m\n\u001b[0m                                                ^\u001b[0m\n\u001b[0;31mSyntaxError\u001b[0m\u001b[0;31m:\u001b[0m can't assign to literal\n"
          ]
        }
      ]
    },
    {
      "cell_type": "markdown",
      "source": [
        "9. What three functions can be used to get the integer, floating-point number, or string\n",
        "version of a value?\n"
      ],
      "metadata": {
        "id": "5tQUfJN7-uqe"
      }
    },
    {
      "cell_type": "markdown",
      "source": [
        "Ans: The int(),float(),and str() functions will evaluate to the integer,floating-point number,string version of the value passed to them.\n",
        "\n",
        "# Examples:\n",
        "print('int(10.0) -> ',int(10.0)) # int() function converts given input to int\n",
        "print('float(10) -> ',float(10)) # float() function converts given input to float\n",
        "print('str(10) -> ',str(10)) # str() function converts given input to string\n",
        "int(10.0) ->  10\n",
        "float(10) ->  10.0\n",
        "str(10) ->  10"
      ],
      "metadata": {
        "id": "z1qWps_lAbSl"
      }
    },
    {
      "cell_type": "markdown",
      "source": [
        "10. Why does this expression cause an error? How can you fix it?\n",
        "&#39;I have eaten &#39; + 99 + &#39; burritos.&#39;"
      ],
      "metadata": {
        "id": "TzAOs2I6-xzt"
      }
    },
    {
      "cell_type": "markdown",
      "source": [
        "'I have eaten ' + 99 + 'burritos.'\n",
        "\n",
        "Ans: This cause of error is 99.because 99 is not a string. 99 must be typecasted to a string to fix this error. The correct way of representing is mentioned below:\n",
        "Input: 'I have eaten ' + str(99) + 'burritos.'\n",
        "Output: 'I have eaten 99 burritos.'\n",
        "\n",
        "print('I have eaten '+str(99)+' burritos')\n",
        "I have eaten 99 burritos"
      ],
      "metadata": {
        "id": "lhkbTETRAffd"
      }
    }
  ]
}